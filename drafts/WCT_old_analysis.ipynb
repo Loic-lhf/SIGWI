{
 "cells": [
  {
   "cell_type": "markdown",
   "metadata": {},
   "source": [
    "# WCT Analysis\n",
    "\n",
    "Whistle Contour Types (WCT) analysis. \n",
    "\n",
    "Exploration of the categories produced by ARTwarp and manual verifications"
   ]
  },
  {
   "cell_type": "markdown",
   "metadata": {},
   "source": [
    "## Importations"
   ]
  },
  {
   "cell_type": "code",
   "execution_count": null,
   "metadata": {},
   "outputs": [],
   "source": [
    "import numpy as np\n",
    "import pandas as pd\n",
    "from tqdm import tqdm\n",
    "import seaborn as sns\n",
    "from scipy import stats\n",
    "import matplotlib.pyplot as plt\n",
    "from matplotlib.patches import Patch\n",
    "\n",
    "from WCT_analysis_utils import (add_file_sequence_cols, run_SIGID, plot_wct_grid,\n",
    "    plot_hue_wct_grid, categories_multi_dates, kw_test, pairwise_tests, get_stars)"
   ]
  },
  {
   "cell_type": "markdown",
   "metadata": {},
   "source": [
    "## Import data"
   ]
  },
  {
   "cell_type": "code",
   "execution_count": null,
   "metadata": {},
   "outputs": [],
   "source": [
    "results_df = pd.read_csv(\n",
    "    \"./resources/Verification_outputs/final_categories_1s_96percent_smooth.csv\",\n",
    "    index_col=0, parse_dates=[\"start_dt\", \"stop_dt\"])   \n",
    "results_df[\"date\"] = pd.to_datetime(results_df[\"start_dt\"].dt.date)\n",
    "results_df[\"year\"] = results_df[\"date\"].dt.year\n",
    "results_df[\"clean_activation_state\"] = results_df[\"activation_state\"].copy()\n",
    "results_df.loc[results_df.clean_activation_state == 'Control', 'clean_activation_state'] = \"BEF\"\n",
    "results_df = add_file_sequence_cols(results_df)"
   ]
  },
  {
   "cell_type": "markdown",
   "metadata": {},
   "source": [
    "## SIGID\n",
    "\n",
    "A method for the IDentification of SIGnature whistles (SIGID) developped by [Janik et al. 2013](https://onlinelibrary.wiley.com/doi/10.1111/j.1748-7692.2011.00549.x).\n",
    "\n",
    "It relies on the analysis of WCT: if 75% or more of the whistles of a WCT have another representant of their types within a time window of 1-10s around them, then this WCT can be considered to be a SWT (Signature Whistles Type).\n",
    "\n",
    "In [Fearey et al. 2019](http://link.springer.com/10.1007/s10071-019-01274-1), the authors consider a time-window of 0.2-10s for their study on common dolphins. As we are also working with *D.delphis*, we will test this interval as well."
   ]
  },
  {
   "cell_type": "markdown",
   "metadata": {},
   "source": [
    "### SWT identification\n",
    "\n",
    "Identification of SWTs among the WCTs"
   ]
  },
  {
   "cell_type": "code",
   "execution_count": null,
   "metadata": {},
   "outputs": [],
   "source": [
    "intervals_to_try = [(0.2, 10), (1, 10)] # min and max for each time-window"
   ]
  },
  {
   "cell_type": "code",
   "execution_count": null,
   "metadata": {},
   "outputs": [],
   "source": [
    "# Identify SWTs (SIGID method)\n",
    "for interval in tqdm(intervals_to_try, desc=\"SIGID interval\", leave=True, position=0):\n",
    "    results_df = run_SIGID(results_df, interval=interval)\n",
    "\n",
    "# Difference in the number of SWT identified\n",
    "results_df[\"SWT_difference\"] = (\n",
    "    results_df[f\"SWT_[{intervals_to_try[0][0]},{intervals_to_try[0][1]}]\"] !=\n",
    "    results_df[f\"SWT_[{intervals_to_try[1][0]},{intervals_to_try[1][1]}]\"]\n",
    ")\n",
    "mismatch_whistles = results_df['SWT_difference'].sum()\n",
    "mismatch_category = ((results_df.groupby('category')[\"SWT_difference\"].sum()) > 1).sum()\n",
    "\n",
    "print(f\"\\nDifferent intervals: {mismatch_category} mismatched SWTs (or {mismatch_whistles} SWs)\")\n"
   ]
  },
  {
   "cell_type": "markdown",
   "metadata": {},
   "source": [
    "### Choosing SIGID interval\n",
    "\n",
    "So using the original interval of [1, 10] sec we get different results than if we use the [0.2, 10] sec interval.\n",
    "\n",
    "Which categories are classified differently?"
   ]
  },
  {
   "cell_type": "code",
   "execution_count": null,
   "metadata": {},
   "outputs": [],
   "source": [
    "mismatch_df = results_df[results_df[\"SWT_difference\"]].copy()\n",
    "for id_row, row in mismatch_df.iterrows():\n",
    "    if row[\"SWT_[1,10]\"]:\n",
    "        mismatch_df.loc[id_row, \"category\"] = str(row[\"category\"])+\"_[1,10]\"\n",
    "    else:\n",
    "        mismatch_df.loc[id_row, \"category\"] = str(row[\"category\"])+\"_[0.2,10]\"\n",
    "\n",
    "misfig, misaxs = plot_wct_grid(mismatch_df, name=\"SWT \", rename=False)\n",
    "misfig.suptitle(\"SWTs mismatch when applying different intervals to SIGID\")\n",
    "misfig.text(\n",
    "    0.5, 0.925,\n",
    "    \"SWT categories are accompanied with the interval used to identify them.\",\n",
    "    ha=\"center\", fontsize=9)\n",
    "misfig.subplots_adjust(bottom=0.085, top=0.875)\n",
    "misfig.set_size_inches(10, 6)\n",
    "misfig.savefig(\"/home/loic/Pictures/CDD/SWTs_interval_mismatch.pdf\")\n",
    "plt.show()"
   ]
  },
  {
   "cell_type": "markdown",
   "metadata": {},
   "source": [
    "Ok, so all the additional SWTs come from the selection of WCTs using the [0.2, 10] sec interval.\n",
    "\n",
    "Since, this interval was specifically create for *D. delphis* whistles, we keep this interval for further analyses."
   ]
  },
  {
   "cell_type": "code",
   "execution_count": null,
   "metadata": {},
   "outputs": [],
   "source": [
    "the_interval = \"SWT_[0.2,10]\"\n",
    "print(f\"Choosing interval: {the_interval}\")\n",
    "results_df['is_SW'] = results_df[the_interval].astype(int)"
   ]
  },
  {
   "cell_type": "markdown",
   "metadata": {},
   "source": [
    "## SWT data summary"
   ]
  },
  {
   "cell_type": "code",
   "execution_count": null,
   "metadata": {},
   "outputs": [],
   "source": [
    "print(\"\\nAmong all whistles:\")\n",
    "print(f\"\\tSWTs represent {100*results_df[results_df[the_interval]].category.nunique()/results_df.category.nunique():.2f}% of WCTs ({results_df[results_df[the_interval]].category.nunique()}/{results_df.category.nunique()}).\")\n",
    "print(f\"\\tSWs represent {100*results_df[the_interval].sum()/len(results_df):.2f}% of whistles ({results_df[the_interval].sum()}/{len(results_df)}).\")\n",
    "\n",
    "results_df_several = results_df[results_df.groupby('category')['category'].transform('count') > 1].copy()\n",
    "print(\"Among categories with more than 1 whistle:\")\n",
    "print(f\"\\tSWTs represent {100*results_df_several[results_df_several[the_interval]].category.nunique()/results_df_several.category.nunique():.2f}% of WCTs ({results_df_several[results_df_several[the_interval]].category.nunique()}/{results_df_several.category.nunique()}).\")\n",
    "print(f\"\\tSWs represent {100*results_df_several[the_interval].sum()/len(results_df_several):.2f}% of whistles ({results_df_several[the_interval].sum()}/{len(results_df_several)}).\\n\")"
   ]
  },
  {
   "cell_type": "code",
   "execution_count": null,
   "metadata": {},
   "outputs": [],
   "source": [
    "# Calculate category sizes and their frequencies\n",
    "category_sizes = results_df['category'].value_counts()\n",
    "size_distribution = pd.DataFrame({\n",
    "    'Category Size': category_sizes.values,\n",
    "    'Number of Categories': [1] * len(category_sizes)\n",
    "}).groupby('Category Size')['Number of Categories'].sum().reset_index()\n",
    "\n",
    "# Create the bar plot\n",
    "sns.barplot(\n",
    "    data=size_distribution, \n",
    "    x='Category Size', y='Number of Categories',\n",
    "    color=\"gray\", edgecolor=\"black\")\n",
    "\n",
    "plt.title('Distribution of WCTs sizes')\n",
    "plt.xlabel('Category size (number of whistles per category)')\n",
    "plt.ylabel('Number of Categories')\n",
    "\n",
    "# Adjust layout to prevent label cutoff\n",
    "plt.tight_layout()\n",
    "plt.yscale('log')\n",
    "plt.savefig(\"/home/loic/Pictures/CDD/WCTs_distribution.pdf\")\n",
    "plt.show()"
   ]
  },
  {
   "cell_type": "code",
   "execution_count": null,
   "metadata": {},
   "outputs": [],
   "source": [
    "# Calculate category sizes and their frequencies\n",
    "category_sizes = results_df[results_df[\"is_SW\"]==1]['category'].value_counts()\n",
    "size_distribution = pd.DataFrame({\n",
    "    'Category Size': category_sizes.values,\n",
    "    'Number of Categories': [1] * len(category_sizes)\n",
    "}).groupby('Category Size')['Number of Categories'].sum().reset_index()\n",
    "\n",
    "# Create the bar plot\n",
    "sns.barplot(\n",
    "    data=size_distribution, \n",
    "    x='Category Size', y='Number of Categories',\n",
    "    color=\"gray\", edgecolor=\"black\")\n",
    "\n",
    "plt.title('Distribution of SWTs sizes')\n",
    "plt.xlabel('Category size (number of whistles per category)')\n",
    "plt.ylabel('Number of Categories')\n",
    "\n",
    "# Adjust layout to prevent label cutoff\n",
    "plt.tight_layout()\n",
    "plt.yscale('log')\n",
    "plt.savefig(\"/home/loic/Pictures/CDD/SWTs_distribution.pdf\")\n",
    "plt.show()"
   ]
  },
  {
   "cell_type": "code",
   "execution_count": null,
   "metadata": {},
   "outputs": [],
   "source": [
    "# is each WCT or SWT specific to a specific sequence (aka group of dolphin?)\n",
    "print(f\"Average number of sequences associated to a specific WCT: {results_df[results_df['is_SW']==0].groupby('category_remap')['sequence'].nunique().mean()}\")\n",
    "print(f\"Average number of sequences associated to a specific SWT: {results_df[results_df['is_SW']==1].groupby('category_remap')['sequence'].nunique().mean()}\")\n",
    "\n",
    "# very slight difference but overall, one WCT = 1 group of dolphin."
   ]
  },
  {
   "cell_type": "code",
   "execution_count": null,
   "metadata": {},
   "outputs": [],
   "source": [
    "# display best contours\n",
    "gridfig, gridaxs = plot_wct_grid(\n",
    "    results_df_several, mode=\"median_dur\",\n",
    "    name=\"SWT\", n_categories=25)\n",
    "gridfig.suptitle(\"Top-25 Signature Whislte Types (SWTs) with the most elements\")\n",
    "gridfig.text(\n",
    "    0.5, 0.925,\n",
    "    \"Whislte contours are represented in gray, black lines are contours of median duration for visualisation purposes\",\n",
    "    ha=\"center\", fontsize=9)\n",
    "gridfig.subplots_adjust(bottom=0.085, top=0.875)\n",
    "gridfig.set_size_inches(10, 6)\n",
    "for axs in gridaxs:\n",
    "    for ax in axs:\n",
    "        ax.get_children()[-11].set_height(5)\n",
    "        ax.set_title(\n",
    "            ax.get_children()[-4].get_text(),\n",
    "            pad=2.5, \n",
    "            fontsize=9,\n",
    "            fontweight='bold')\n",
    "gridfig.savefig(\"/home/loic/Pictures/CDD/SWTs_25.pdf\")\n",
    "plt.show()"
   ]
  },
  {
   "cell_type": "code",
   "execution_count": null,
   "metadata": {},
   "outputs": [],
   "source": [
    "# display uncategorised contours\n",
    "sinfig, sinaxs = plot_wct_grid(\n",
    "    results_df[results_df.groupby('category')['category'].transform('count') == 1].copy(), \n",
    "    name=\"WCT\", n_categories=25)\n",
    "sinfig.suptitle(\"25 Randomly selected Whistle Contour Types (WCTs)\")\n",
    "sinfig.text(\n",
    "    0.5, 0.925,\n",
    "    \"These contours are unique, each one appears only once in our dataset\",\n",
    "    ha=\"center\", fontsize=9)\n",
    "sinfig.subplots_adjust(\n",
    "    bottom=0.085, top=0.875, \n",
    "    hspace=0.42, wspace=0.066)\n",
    "sinfig.set_size_inches(10, 6)\n",
    "for axs in sinaxs:\n",
    "    for ax in axs:\n",
    "        ax.get_children()[-11].set_height(5)\n",
    "        ax.set_title(\n",
    "            ax.get_children()[-4].get_text(),\n",
    "            pad=3, \n",
    "            fontsize=9,\n",
    "            fontweight='bold')\n",
    "sinfig.savefig(\"/home/loic/Pictures/CDD/WCTs_25.pdf\")\n",
    "plt.show()"
   ]
  },
  {
   "cell_type": "markdown",
   "metadata": {},
   "source": [
    "## SWT data exploration\n",
    "\n",
    "Let's investigate if any of the variables that we measured has an effect on the number/proportion of SWTs. Starting with dates."
   ]
  },
  {
   "cell_type": "markdown",
   "metadata": {},
   "source": [
    "### Shared SWTs"
   ]
  },
  {
   "cell_type": "code",
   "execution_count": null,
   "metadata": {},
   "outputs": [],
   "source": [
    "print(\n",
    "    categories_multi_dates(results_df[results_df[the_interval]], \"year\").category.nunique(),\n",
    "    f\"SWTs are shared between years.\")\n",
    "print(\n",
    "    categories_multi_dates(results_df[results_df[the_interval]], \"date\").category.nunique(),\n",
    "    f\"SWTs are shared between days.\")\n",
    "print(\n",
    "    categories_multi_dates(results_df[results_df[the_interval]], \"sequence\").category.nunique(),\n",
    "    f\"SWTs are shared between sequences.\")"
   ]
  },
  {
   "cell_type": "markdown",
   "metadata": {},
   "source": [
    "Ok so we have only 2 SWTs that are shared between 2 sequences, let's visualise them."
   ]
  },
  {
   "cell_type": "code",
   "execution_count": null,
   "metadata": {},
   "outputs": [],
   "source": [
    "shared_sequence = categories_multi_dates(results_df[results_df[the_interval]], \"sequence\")\n",
    "# plot them per sequence\n",
    "seqfig, axseq = plot_hue_wct_grid(shared_sequence, hue=\"sequence\", name=\"SWT\", legend_title=\"Sequence start\")\n",
    "seqfig.suptitle(\"Common SWTs found in 2 distinct sequences.\")\n",
    "seqfig.subplots_adjust(\n",
    "    bottom=0.2, top=0.82,\n",
    "    left=0.13)\n",
    "seqfig.set_size_inches(8, 2.66)\n",
    "for axs in axseq:\n",
    "    for ax in axs:\n",
    "        ax.set_title(\n",
    "            ax.get_children()[-5].get_text(),\n",
    "            pad=2.1,\n",
    "            fontsize=8,\n",
    "            fontweight='bold')\n",
    "seqfig.savefig(\"/home/loic/Pictures/CDD/SWTs_shared_sequences.pdf\")\n",
    "plt.show()"
   ]
  },
  {
   "cell_type": "markdown",
   "metadata": {},
   "source": [
    "These SWTs shared between 2 sequences could have multiple explanations:\n",
    "- Different groups contained the same 2 individuals, that were not noticed by the observers onboard.\n",
    "- Contours with very similar shapes, but with fine variations, associated to different but closely related individuals.\n",
    "- misclassification errors of the ARTwarp algorithm (fine variations are visible, but would need a stricter vigilance value to be differentiated).\n",
    "\n",
    "Both these hypotheses are plausible. In practice, shared SWTs are very rare in our dataset."
   ]
  },
  {
   "cell_type": "code",
   "execution_count": null,
   "metadata": {},
   "outputs": [],
   "source": [
    "print(\n",
    "    categories_multi_dates(results_df, \"year\").category.nunique(),\n",
    "    f\"WCTs are shared between years.\")\n",
    "print(\n",
    "    categories_multi_dates(results_df, \"date\").category.nunique(),\n",
    "    f\"WCTs are shared between days.\")\n",
    "print(\n",
    "    categories_multi_dates(results_df, \"sequence\").category.nunique(),\n",
    "    f\"WCTs are shared between sequences.\")"
   ]
  },
  {
   "cell_type": "markdown",
   "metadata": {},
   "source": [
    "When considering all WCTs, more types are shared between sequences/days. But by definition, these WCTs are not specific to individuals as they are not SWs, so they could be shared by several dolphins and/or groups of dolphins, with various applications that are unknown to this day."
   ]
  },
  {
   "cell_type": "markdown",
   "metadata": {},
   "source": [
    "### SWTs proportion\n",
    "\n",
    "Let's investigate if the proportion SWs/whistles varies depeding on our recorded variables.\n",
    "\n",
    "Why? Because I've seen it here [Janik et al. 1994](http://link.springer.com/10.1007/BF00170704)\n",
    "\n",
    "#### Years"
   ]
  },
  {
   "cell_type": "code",
   "execution_count": null,
   "metadata": {},
   "outputs": [],
   "source": [
    "print(\"Fisher's exact tests:\")\n",
    "test_years = pairwise_tests(results_df, \"year\", \"is_SW\")\n",
    "for test_year in test_years:\n",
    "    print(\"\\t\", test_year[0], \"VS\", test_year[1], \":\", f\"{test_year[2]:.2e}\", get_stars(test_year[2]))"
   ]
  },
  {
   "cell_type": "code",
   "execution_count": null,
   "metadata": {},
   "outputs": [],
   "source": [
    "# prepare plot\n",
    "letters = [\"a\", \"b\", \"a\"] # manually from previous cell\n",
    "\n",
    "sns.set_style(\"ticks\")\n",
    "fig_year, axs_year = plt.subplots(1,1)\n",
    "sns.barplot(\n",
    "    data=results_df, x=\"year\", y=\"is_SW\",\n",
    "    capsize=0.05, width=0.8, \n",
    "    n_boot=10000, seed=42, ax=axs_year,\n",
    "    color=\"gray\", edgecolor=\"black\"\n",
    ")\n",
    "axs_year.set_ylim(0,0.215)\n",
    "for i, x in enumerate(list(results_df.year.unique())):\n",
    "    axs_year.text(\n",
    "        str(x), 0.211, letters[i], ha=\"center\", va=\"top\", fontsize=11,\n",
    "        backgroundcolor=\"white\"\n",
    "    )\n",
    "fig_year.suptitle(\"Proportion of SWs among whistles per year\")\n",
    "fig_year.text(\n",
    "    0.5, 0.89,\n",
    "    \"Different letter show significant differences\\naccording to Fisher's exact tests (p-values < 0.05).\\nError bars show 95% confidence intervals.\",\n",
    "    ha=\"center\", va=\"bottom\", fontsize=8)\n",
    "axs_year.set_xlabel(\"Year\")\n",
    "axs_year.set_ylabel(\"SWs (in % of whistles)\")\n",
    "fig_year.set_size_inches(3, 6)\n",
    "fig_year.subplots_adjust(\n",
    "    top=0.88\n",
    ")\n",
    "axs_year.xaxis.grid(True)\n",
    "axs_year.yaxis.grid(True)\n",
    "fig_year.savefig(\"/home/loic/Pictures/CDD/barplot_years.pdf\")\n",
    "plt.show()\n",
    "sns.reset_orig()"
   ]
  },
  {
   "cell_type": "markdown",
   "metadata": {},
   "source": [
    "Some notable differences, between 2021 and the other years. But 2021 was a year with only very few observations, so these differences are expected."
   ]
  },
  {
   "cell_type": "markdown",
   "metadata": {},
   "source": [
    "#### Days"
   ]
  },
  {
   "cell_type": "code",
   "execution_count": null,
   "metadata": {},
   "outputs": [],
   "source": [
    "print(\"Fisher's exact tests: (uncomment to show)\")\n",
    "test_days = pairwise_tests(results_df, \"date\", \"is_SW\")\n",
    "# for test_day in test_days:\n",
    "#     print(\"\\t\", test_day[0], \"VS\", test_day[1], \":\", f\"{test_day[2]:.2e}\", get_stars(test_day[2]))"
   ]
  },
  {
   "cell_type": "code",
   "execution_count": null,
   "metadata": {},
   "outputs": [],
   "source": [
    "letters = [\n",
    "    \"a\", \"b\", \"a\", \"a\", \"c\", \"a\", \"a\", \"c\", \"b\", \"a\", \n",
    "    \"abc\", # modified from the tests because only 3 data points, so test is not reliable\n",
    "    \"NA\", \"NA\"] # manually from previous cell\n",
    "\n",
    "sns.set_style(\"ticks\")\n",
    "fig_day, axs_day = plt.subplots(1,1)\n",
    "sns.barplot(\n",
    "    data=results_df, x=\"date\", y=\"is_SW\",\n",
    "    capsize=0.05, width=0.8, \n",
    "    n_boot=10000, seed=42, ax=axs_day,\n",
    "    color=\"gray\", edgecolor=\"black\"\n",
    ")\n",
    "\n",
    "# plot with statistics\n",
    "axs_day.set_ylim(0,1.1)\n",
    "for i, x in enumerate(list(results_df.date.dt.date.unique())):\n",
    "    axs_day.text(\n",
    "        str(x), 1.075, letters[i], ha=\"center\", va=\"top\", fontsize=10,\n",
    "        backgroundcolor=\"white\"\n",
    "    )\n",
    "axs_day.set_xlabel(\"Day of recording\")\n",
    "axs_day.set_ylabel(\"SWs (in % of whistles)\")\n",
    "for label in axs_day.get_xticklabels():\n",
    "    label.set_rotation(45)\n",
    "    label.set_ha('right')\n",
    "fig_day.suptitle(\"Proportion of SWs among whistles per recording day\")\n",
    "fig_day.text(\n",
    "    0.5, 0.89,\n",
    "    \"Different letter show significant differences according to Fisher's exact tests (p-values < 0.05).\\nError bars show 95% confidence intervals.\",\n",
    "    ha=\"center\", va=\"bottom\", fontsize=8)\n",
    "fig_day.subplots_adjust(\n",
    "    top=0.875\n",
    ")\n",
    "axs_day.xaxis.grid(True)\n",
    "axs_day.yaxis.grid(True)\n",
    "fig_day.savefig(\"/home/loic/Pictures/CDD/barplot_days.pdf\")\n",
    "sns.reset_orig()\n",
    "plt.show()"
   ]
  },
  {
   "cell_type": "code",
   "execution_count": null,
   "metadata": {},
   "outputs": [],
   "source": [
    "a_bars = results_df[(\n",
    "    (results_df.date.dt.date.astype(str) == \"2020-07-11\") |\n",
    "    (results_df.date.dt.date.astype(str) == \"2020-07-13\") |\n",
    "    (results_df.date.dt.date.astype(str) == \"2020-07-16\") |\n",
    "    (results_df.date.dt.date.astype(str) == \"2020-07-18\") |\n",
    "    (results_df.date.dt.date.astype(str) == \"2021-07-09\") |\n",
    "    (results_df.date.dt.date.astype(str) == \"2022-07-18\")\n",
    ")]\n",
    "print(\"Proportion of SWs in 'a' distributions:\", f\"{100*a_bars[the_interval].sum()/len(a_bars):.2f}%\")\n",
    "print(f\"2022-07-20: {len(results_df[results_df.date.dt.date.astype(str) == '2022-07-20'])} whistles this day.\")"
   ]
  },
  {
   "cell_type": "markdown",
   "metadata": {},
   "source": [
    "Some noticeable features : \n",
    "- Most days, rates of SWs are low (5% of all whistles for 'a' distributions)\n",
    "- 2022-07-20: an outlier, only 3 whistles this day, of which 2 are SWs.\n",
    "\n",
    "For days 2020-07-12, 2020-07-17, 2022-07-16 and 2022-07-17 that are similar outliers, there might be some explanation but I cannot find it for now, let's explore the other variables first before.\n",
    "\n",
    "All in all, rates are usually low, but great variations can appear, let's see if its not due to other features, such as behaviour, group size or our beacon."
   ]
  },
  {
   "cell_type": "markdown",
   "metadata": {},
   "source": [
    "#### Behavioural state"
   ]
  },
  {
   "cell_type": "code",
   "execution_count": null,
   "metadata": {},
   "outputs": [],
   "source": [
    "# test data\n",
    "print(\"Fisher's exact tests:\")\n",
    "test_behaviours = pairwise_tests(results_df, \"behaviour\", \"is_SW\")\n",
    "for test_behaviour in test_behaviours:\n",
    "    if type(test_behaviour[0])==str and type(test_behaviour[1])==str:\n",
    "        print(\"\\t\", test_behaviour[0], \"VS\", test_behaviour[1], \":\", f\"{test_behaviour[2]:.2e}\", get_stars(test_behaviour[2]))"
   ]
  },
  {
   "cell_type": "code",
   "execution_count": null,
   "metadata": {},
   "outputs": [],
   "source": [
    "# Make plot\n",
    "letters = [\"a\", \"ab\", \"b\", \"b\", \"b\"] # manually from previous cell\n",
    "behavioural_states = [\"Milling\", \"Socialising\", \"Travelling\", \"Foraging\", \"Attraction\"]\n",
    "\n",
    "sns.set_style(\"ticks\")\n",
    "fig_behaviour, axs_behaviour = plt.subplots(1,1)\n",
    "sns.barplot(\n",
    "    data=results_df, x=\"behaviour\", y=\"is_SW\",\n",
    "    capsize=0.05, width=0.8, order=behavioural_states,\n",
    "    n_boot=10000, seed=42, ax=axs_behaviour, \n",
    "    color=\"gray\", edgecolor=\"black\"\n",
    ")\n",
    "axs_behaviour.set_ylim(0,0.2)\n",
    "for i, x in enumerate(behavioural_states):\n",
    "    axs_behaviour.text(\n",
    "        str(x), 0.195, letters[i], ha=\"center\", va=\"top\", fontsize=10,\n",
    "        backgroundcolor=\"white\"\n",
    "    )\n",
    "axs_behaviour.set_xlabel(\"Behavioural state\")\n",
    "axs_behaviour.set_ylabel(\"SWs (in % of whistles)\")\n",
    "fig_behaviour.suptitle(\"Proportion of SWs among whistles per observed behavioural state.\")\n",
    "fig_behaviour.text(\n",
    "    0.5, 0.91,\n",
    "    \"Different letter show significant differences according to Fisher's exact tests (p-values < 0.05).\\nError bars show 95% confidence intervals.\",\n",
    "    ha=\"center\", va=\"bottom\", fontsize=8)\n",
    "fig_behaviour.set_size_inches(5, 6)\n",
    "fig_behaviour.subplots_adjust(\n",
    "    top=0.9\n",
    ")\n",
    "axs_behaviour.xaxis.grid(True)\n",
    "axs_behaviour.yaxis.grid(True)\n",
    "fig_behaviour.savefig(\"/home/loic/Pictures/CDD/barplot_behaviours.pdf\")\n",
    "plt.show()\n",
    "sns.reset_orig()"
   ]
  },
  {
   "cell_type": "markdown",
   "metadata": {},
   "source": [
    "It looks like when dolphins are milling, they produce less SWs, in proportion, compared to the other behavioural states. Since, it is a resting behaviour, they are maybe communicating less between individuals, as resting individuals are less likely to respond anyway?"
   ]
  },
  {
   "cell_type": "code",
   "execution_count": null,
   "metadata": {},
   "outputs": [],
   "source": [
    "# Specific SWT shapes per modality?\n",
    "top_behaviour_fig, top_behaviour_axs, top_25_df = plot_wct_grid(\n",
    "    results_df_several, name=\"SWT\", n_categories=25, hue=\"behaviour\",\n",
    "    get_top_df=True)\n",
    "\n",
    "top_behaviour_fig.subplots_adjust(\n",
    "    bottom=0.075, top=0.875, \n",
    "    hspace=0.42, wspace=0.066)\n",
    "top_behaviour_fig.suptitle(\"Top-25 Signature Whistles Types (SWTs) with the most elements.\")\n",
    "top_behaviour_fig.text(\n",
    "    0.5, 0.925,\n",
    "    \"Each contour is represented with a different color depending on the behavioural state observed.\",\n",
    "    ha=\"center\", fontsize=9)\n",
    "top_behaviour_fig.set_size_inches(10, 7)\n",
    "for axs in top_behaviour_axs:\n",
    "    for ax in axs:\n",
    "        ax.get_children()[-11].set_height(5)\n",
    "        ax.set_title(\n",
    "            ax.get_children()[-4].get_text(),\n",
    "            pad=3, \n",
    "            fontsize=9,\n",
    "            fontweight='bold')\n",
    "\n",
    "top_behaviour_axs[-1, 0].text(\n",
    "    0.5, 0.5, 'No observation', \n",
    "    ha='center', va='center', transform=top_behaviour_axs[-1, 0].transAxes)\n",
    "\n",
    "top_behaviour_fig.savefig(\"/home/loic/Pictures/CDD/SWTs_25_behaviour.pdf\")\n",
    "plt.show()"
   ]
  },
  {
   "cell_type": "code",
   "execution_count": null,
   "metadata": {},
   "outputs": [],
   "source": [
    "# Same grid but with histograms instead of contours\n",
    "bar_top_behaviour_fig, bar_top_behaviour_axs = plt.subplots(\n",
    "    5, 5, sharex=True, sharey=True, figsize=(10,7))\n",
    "bar_top_behaviour_fig.subplots_adjust(\n",
    "    left=0.066, right=0.95,\n",
    "    bottom=0.15, top=0.91,\n",
    "    wspace=0.1, hspace=0.5)\n",
    "\n",
    "curr_grid = [0, 0]\n",
    "for cat_id, cat_name in enumerate(top_25_df.category.unique()):\n",
    "    bar_top_behaviour_axs[curr_grid[0],curr_grid[1]].set_title(\n",
    "        f\"SWT{cat_id+1:02d} (N={len(top_25_df[top_25_df.category == cat_name])})\",\n",
    "        pad=5, \n",
    "        fontsize=9,\n",
    "        fontweight='bold')  \n",
    "    \n",
    "    sns.countplot(\n",
    "        data=top_25_df[top_25_df.category == cat_name], \n",
    "        order=[\"Milling\", \"Socialising\", \"Travelling\", \"Foraging\", \"Attracted\"],\n",
    "        x=\"behaviour\", width=0.5, color=\"gray\", edgecolor=\"black\",\n",
    "        stat=\"proportion\",\n",
    "        ax=bar_top_behaviour_axs[curr_grid[0],curr_grid[1]]\n",
    "    )\n",
    "    bar_top_behaviour_axs[curr_grid[0],curr_grid[1]].set_xlabel(\"\")\n",
    "    bar_top_behaviour_axs[curr_grid[0],curr_grid[1]].set_ylabel(\"\")\n",
    "\n",
    "    if curr_grid[1] >= 5-1:\n",
    "        curr_grid[0] += 1\n",
    "        curr_grid[1] = 0\n",
    "    else:\n",
    "        curr_grid[1] += 1\n",
    "  \n",
    "for i in range(5):\n",
    "    for j in range(5):\n",
    "        bar_top_behaviour_axs[i, j].add_patch(\n",
    "        plt.Rectangle(\n",
    "            xy=(-0.5, 1.05), \n",
    "            width=5, \n",
    "            height=.3,\n",
    "            facecolor='lightgray',\n",
    "            clip_on=False,\n",
    "            edgecolor=\"black\",\n",
    "            linewidth = .66))\n",
    "        for label in bar_top_behaviour_axs[i, j].get_xticklabels():\n",
    "            label.set_rotation(45)\n",
    "            label.set_ha('right')\n",
    "\n",
    "bar_top_behaviour_fig.suptitle(\"Distribution of Top-25 Signature Whistles Types (SWTs) per behaviour.\")\n",
    "bar_top_behaviour_fig.supylabel(\"Proportion of SWs\")\n",
    "bar_top_behaviour_fig.supxlabel(\"Behavioural state\")\n",
    "top_behaviour_fig.savefig(\"/home/loic/Pictures/CDD/barplot_SWTs_25_behaviour.pdf\")\n",
    "plt.show()"
   ]
  },
  {
   "cell_type": "markdown",
   "metadata": {},
   "source": [
    "No obvious pattern: SWTs are emitted during all behavioural states. However, a SWTs is often emitted only during a specific observed behavioural state."
   ]
  },
  {
   "cell_type": "markdown",
   "metadata": {},
   "source": [
    "#### Beacon activation state\n",
    "\n",
    "Does the DOLPHINFREE device has an influence on the emission of SWs?"
   ]
  },
  {
   "cell_type": "code",
   "execution_count": null,
   "metadata": {},
   "outputs": [],
   "source": [
    "# test data\n",
    "print(\"Fisher's exact tests:\")\n",
    "test_beacons = pairwise_tests(results_df, \"clean_activation_state\", \"is_SW\")\n",
    "for test_beacon in test_beacons:\n",
    "    print(\"\\t\", test_beacon[0], \"VS\", test_beacon[1], \":\", f\"{test_beacon[2]:.2e}\", get_stars(test_beacon[2]))"
   ]
  },
  {
   "cell_type": "code",
   "execution_count": null,
   "metadata": {},
   "outputs": [],
   "source": [
    "# Make plot\n",
    "letters = [\"a\", \"b\", \"a\", \"a\", \"a\"] # manually from previous cell\n",
    "activation_order = [\"BEF\", \"BEF+DUR\", \"DUR\", \"DUR+AFT\", \"AFT\"]\n",
    "\n",
    "sns.set_style(\"ticks\")\n",
    "fig_beacon, axs_beacon = plt.subplots(1,1)\n",
    "sns.barplot(\n",
    "    data=results_df, x=\"clean_activation_state\", y=\"is_SW\",\n",
    "    capsize=0.05, width=0.8, order=activation_order,\n",
    "    n_boot=10000, seed=10, ax=axs_beacon,\n",
    "    color=\"gray\", edgecolor=\"black\"\n",
    ")\n",
    "# since seaborn uses bootstrap, results are kinda different unfortunately.\n",
    "\n",
    "axs_beacon.set_ylim(0,0.27)\n",
    "for i, x in enumerate(activation_order):\n",
    "    axs_beacon.text(\n",
    "        str(x), 0.255, letters[i], ha=\"center\", va=\"bottom\", fontsize=11,\n",
    "        backgroundcolor=\"white\"\n",
    "    )\n",
    "axs_beacon.set_xlabel(\"Activation state of the beacon\")\n",
    "axs_beacon.set_ylabel(\"SWs (in % of whistles)\")\n",
    "axs_beacon.set_xticklabels([\"Before\", \"Activation\", \"Activated\", \"Deactivation\", \"After\"])\n",
    "fig_beacon.suptitle(\"Proportion of SWs among whistles per beacon activation state.\")\n",
    "fig_beacon.text(\n",
    "    0.5, 0.91,\n",
    "    \"Different letter show significant differences according to Fisher's exact tests (p-values < 0.05).\\nError bars show 95% confidence intervals.\",\n",
    "    ha=\"center\", va=\"bottom\", fontsize=8)\n",
    "fig_beacon.set_size_inches(6, 6)\n",
    "fig_beacon.subplots_adjust(\n",
    "    top=0.9\n",
    ")\n",
    "axs_beacon.xaxis.grid(True)\n",
    "axs_beacon.yaxis.grid(True)\n",
    "fig_beacon.savefig(\"/home/loic/Pictures/CDD/barplot_beacons.pdf\")\n",
    "plt.show()\n",
    "sns.reset_orig()"
   ]
  },
  {
   "cell_type": "markdown",
   "metadata": {},
   "source": [
    "It looks like, at the activation of the beacon, the ratio of SWs diminishes.\n",
    "I do not really have an explanation for this, but it's interesting to note."
   ]
  },
  {
   "cell_type": "code",
   "execution_count": null,
   "metadata": {},
   "outputs": [],
   "source": [
    "# Specific SWT shapes per modality?\n",
    "top_beacon_fig, top_beacon_axs, top_25_df = plot_wct_grid(\n",
    "    results_df_several, name=\"SWT\", n_categories=25, hue=\"clean_activation_state\",\n",
    "    get_top_df=True)\n",
    "\n",
    "top_beacon_fig.subplots_adjust(\n",
    "    bottom=0.075, top=0.875, \n",
    "    hspace=0.42, wspace=0.066)\n",
    "top_beacon_fig.suptitle(\"Top-25 Signature Whistles Types (SWTs) with the most elements.\")\n",
    "top_beacon_fig.text(\n",
    "    0.5, 0.925,\n",
    "    \"Each contour is represented with a different color depending on the activation state of the DOLPHINFREE beacon.\",\n",
    "    ha=\"center\", fontsize=9)\n",
    "top_beacon_fig.set_size_inches(10, 7)\n",
    "for axs in top_beacon_axs:\n",
    "    for ax in axs:\n",
    "        ax.get_children()[-11].set_height(5)\n",
    "        ax.set_title(\n",
    "            ax.get_children()[-4].get_text(),\n",
    "            pad=3, \n",
    "            fontsize=9,\n",
    "            fontweight='bold')\n",
    "\n",
    "top_beacon_fig.savefig(\"/home/loic/Pictures/CDD/SWTs_25_beacon.pdf\")\n",
    "plt.show()"
   ]
  },
  {
   "cell_type": "code",
   "execution_count": null,
   "metadata": {},
   "outputs": [],
   "source": [
    "# Same grid but with histograms instead of contours\n",
    "bar_top_beacon_fig, bar_top_beacon_axs = plt.subplots(\n",
    "    5, 5, sharex=True, sharey=True, figsize=(10,7))\n",
    "bar_top_beacon_fig.subplots_adjust(\n",
    "    left=0.066, right=0.95,\n",
    "    bottom=0.15, top=0.91,\n",
    "    wspace=0.1, hspace=0.5)\n",
    "\n",
    "curr_grid = [0, 0]\n",
    "for cat_id, cat_name in enumerate(top_25_df.category.unique()):\n",
    "    bar_top_beacon_axs[curr_grid[0],curr_grid[1]].set_title(\n",
    "        f\"SWT{cat_id+1:02d} (N={len(top_25_df[top_25_df.category == cat_name])})\",\n",
    "        pad=5, \n",
    "        fontsize=9,\n",
    "        fontweight='bold')  \n",
    "    \n",
    "    sns.countplot(\n",
    "        data=top_25_df[top_25_df.category == cat_name], \n",
    "        order=[\"BEF\", \"BEF+DUR\", \"DUR\", \"DUR+AFT\", \"AFT\"],\n",
    "        x=\"clean_activation_state\", width=0.5, color=\"gray\", edgecolor=\"black\",\n",
    "        stat=\"proportion\",\n",
    "        ax=bar_top_beacon_axs[curr_grid[0],curr_grid[1]]\n",
    "    )\n",
    "    bar_top_beacon_axs[curr_grid[0],curr_grid[1]].set_xlabel(\"\")\n",
    "    bar_top_beacon_axs[curr_grid[0],curr_grid[1]].set_ylabel(\"\")\n",
    "\n",
    "    if curr_grid[1] >= 5-1:\n",
    "        curr_grid[0] += 1\n",
    "        curr_grid[1] = 0\n",
    "    else:\n",
    "        curr_grid[1] += 1\n",
    "  \n",
    "for i in range(5):\n",
    "    for j in range(5):\n",
    "        bar_top_beacon_axs[i, j].add_patch(\n",
    "        plt.Rectangle(\n",
    "            xy=(-0.5, 1.05), \n",
    "            width=5, \n",
    "            height=.3,\n",
    "            facecolor='lightgray',\n",
    "            clip_on=False,\n",
    "            edgecolor=\"black\",\n",
    "            linewidth = .66))\n",
    "        for label in bar_top_beacon_axs[i, j].get_xticklabels():\n",
    "            label.set_rotation(45)\n",
    "            label.set_ha('right')\n",
    "\n",
    "bar_top_beacon_fig.suptitle(\"Distribution of Top-25 Signature Whistles Types (SWTs) depending on the activation of the DOLPHINFREE beacon.\")\n",
    "bar_top_beacon_fig.supylabel(\"Proportion of SWs\")\n",
    "bar_top_beacon_fig.supxlabel(\"Activation state of the DOLPHINFREE beacon\")\n",
    "bar_top_beacon_fig.savefig(\"/home/loic/Pictures/CDD/barplot_SWTs_25_beacon.pdf\")\n",
    "plt.show()"
   ]
  },
  {
   "cell_type": "markdown",
   "metadata": {},
   "source": [
    "Looks like more SWs are emitted before and during the activation for these top categories. Which is different than when taking them all into account. So nice visualisation, but biased."
   ]
  },
  {
   "cell_type": "markdown",
   "metadata": {},
   "source": [
    "#### Fishing net\n",
    "\n",
    "An influence of the presence/absence of a fishing net?"
   ]
  },
  {
   "cell_type": "code",
   "execution_count": null,
   "metadata": {},
   "outputs": [],
   "source": [
    "# test data\n",
    "print(\"Fisher's exact tests:\")\n",
    "test_nets = pairwise_tests(results_df, \"fishing_net\", \"is_SW\")\n",
    "for test_net in test_nets:\n",
    "    print(\"\\t\", test_net[0], \"VS\", test_net[1], \":\", f\"{test_net[2]:.2e}\", get_stars(test_net[2]))"
   ]
  },
  {
   "cell_type": "code",
   "execution_count": null,
   "metadata": {},
   "outputs": [],
   "source": [
    "# Make plot\n",
    "letters = [\"a\", \"a\"]\n",
    "\n",
    "sns.set_style(\"ticks\")\n",
    "fig_net, axs_net = plt.subplots(1,1)\n",
    "sns.barplot(\n",
    "    data=results_df, x=\"fishing_net\", y=\"is_SW\",\n",
    "    capsize=0.05, width=0.8,\n",
    "    n_boot=10000, seed=10, ax=axs_net,\n",
    "    color=\"gray\", edgecolor=\"black\"\n",
    ")\n",
    "axs_net.set_ylim(0,0.188)\n",
    "for i, x in enumerate([\"Absent\", \"Present\"]):\n",
    "    axs_net.text(\n",
    "        str(x), 0.1781, letters[i], ha=\"center\", va=\"bottom\", fontsize=11,\n",
    "        backgroundcolor=\"white\"\n",
    "    )\n",
    "\n",
    "fig_net.suptitle(\"Proportion of SWs among whistles depending on the presence of a fishing net.\")\n",
    "fig_net.text(\n",
    "    0.5, 0.91,\n",
    "    \"Different letter show significant differences according to Fisher's exact tests (p-values < 0.05).\\nError bars show 95% confidence intervals.\",\n",
    "    ha=\"center\", va=\"bottom\", fontsize=8)\n",
    "fig_net.set_size_inches(2, 6)\n",
    "fig_net.subplots_adjust(\n",
    "    top=0.9\n",
    ")\n",
    "axs_net.set_xlabel(\"Presence/Absence of fishing net\")\n",
    "axs_net.set_ylabel(\"SWs (in % of whistles)\")\n",
    "axs_net.xaxis.grid(True)\n",
    "axs_net.yaxis.grid(True)\n",
    "fig_net.savefig(\"/home/loic/Pictures/CDD/barplot_net.pdf\")\n",
    "plt.show()\n",
    "sns.reset_orig()"
   ]
  },
  {
   "cell_type": "markdown",
   "metadata": {},
   "source": [
    "Well, that one is easy to interpret at least. No influence of the fishing net."
   ]
  },
  {
   "cell_type": "markdown",
   "metadata": {},
   "source": [
    "#### Group size\n",
    "\n",
    "The more dolphins, the more whistles, but are there also more SWs ?"
   ]
  },
  {
   "cell_type": "code",
   "execution_count": null,
   "metadata": {},
   "outputs": [],
   "source": [
    "ratio_df = results_df.groupby(['sequence', 'group_size'])['is_SW'].mean().reset_index()\n",
    "\n",
    "sns.set_style(\"ticks\")\n",
    "fig_size, axs_size = plt.subplots(1,1)\n",
    "sns.regplot(\n",
    "    data=ratio_df, x='group_size', y='is_SW',\n",
    "    scatter=True, ax=axs_size,\n",
    "    color=\"black\"\n",
    ")\n",
    "fig_size.suptitle(\"Proportion of SWs among whistles depending on dolphin group sizes.\")\n",
    "# fig_size.set_size_inches(2, 6)\n",
    "fig_size.subplots_adjust(\n",
    "    top=0.92\n",
    ")\n",
    "axs_size.set_xlabel(\"Number of individuals per group.\")\n",
    "axs_size.set_ylabel(\"SWs (in % of whistles)\")\n",
    "axs_size.xaxis.grid(True)\n",
    "axs_size.yaxis.grid(True)\n",
    "fig_size.savefig(\"/home/loic/Pictures/CDD/regplot_group_size.pdf\")\n",
    "plt.show()\n",
    "sns.reset_orig()\n",
    "\n",
    "r = stats.spearmanr(\n",
    "    ratio_df[\"group_size\"], \n",
    "    ratio_df[\"is_SW\"])\n",
    "\n",
    "print(f\"Spearman correlation: {r[0]:.2f} (p-value {r[1]:.2f})\")"
   ]
  },
  {
   "cell_type": "markdown",
   "metadata": {},
   "source": [
    "No relation between SW proportion and group size, we kinda expected it, but its still better to prove it."
   ]
  },
  {
   "cell_type": "markdown",
   "metadata": {},
   "source": [
    "#### Activation sequence VS behaviour\n",
    "\n",
    "Let's try some chosen interactions, to investigate further."
   ]
  },
  {
   "cell_type": "code",
   "execution_count": null,
   "metadata": {},
   "outputs": [],
   "source": [
    "sns.set_style(\"ticks\")\n",
    "interaction_fig, interaction_axs = plt.subplots(1,1)\n",
    "hue_order=[\"Milling\", \"Socialising\", \"Travelling\", \"Foraging\", \"Attraction\"]\n",
    "bars = sns.barplot(\n",
    "    data=results_df, x=\"activation_state\", y=\"is_SW\", hue=\"behaviour\",\n",
    "    capsize=0.05, width=0.8, \n",
    "    order=[\"BEF\", \"BEF+DUR\", \"DUR\", \"DUR+AFT\", \"AFT\"], \n",
    "    hue_order=hue_order,\n",
    "    n_boot=10000, seed=42, ax=interaction_axs,\n",
    ")\n",
    "\n",
    "# Apply hatch patterns : ['/', '\\\\', '|', '-', '+', 'x', 'o', 'O', '.', '*']\n",
    "unique_colors = np.unique(np.array([bar.get_facecolor() for bar in bars.patches]), axis=0)\n",
    "hatch_patterns = ['.', '-', '/', '\\\\', 'o']\n",
    "for bar in bars.patches:\n",
    "    color = bar.get_facecolor()\n",
    "    index = [i for i, unique_color in enumerate(unique_colors) if np.all(unique_color == color)]\n",
    "    bar.set_hatch(hatch_patterns[index[0]])\n",
    "    bar.set_facecolor('gray')\n",
    "interaction_axs.legend(title=\"Behaviour\", handlelength=3, handleheight=1.5)\n",
    "\n",
    "interaction_fig.set_size_inches(10, 6)\n",
    "interaction_fig.suptitle(\"Proportion of SWs among whistles depending on behavioural state and activation of the beacon.\")\n",
    "interaction_fig.subplots_adjust(\n",
    "    top=0.92\n",
    ")\n",
    "interaction_axs.set_xlabel(\"Beacon activation state\")\n",
    "interaction_axs.set_ylabel(\"SWs (in % of whistles)\")\n",
    "interaction_axs.xaxis.grid(True)\n",
    "interaction_axs.yaxis.grid(True)\n",
    "interaction_axs.set_xticklabels([\"Before\", \"Activation\", \"Activated\", \"Deactivation\", \"After\"])\n",
    "interaction_fig.savefig(\"/home/loic/Pictures/CDD/regplot_interaction_beahviour_beacon.pdf\")\n",
    "plt.show()\n",
    "sns.reset_orig()"
   ]
  },
  {
   "cell_type": "markdown",
   "metadata": {},
   "source": [
    "Too much variations, cannot determine true effects"
   ]
  },
  {
   "cell_type": "markdown",
   "metadata": {},
   "source": [
    "#### Fishing net interactions\n",
    "\n",
    "The presence of a fishing has no effect alone. But maybe when considering interactions it reveals an effect?"
   ]
  },
  {
   "cell_type": "code",
   "execution_count": null,
   "metadata": {},
   "outputs": [],
   "source": [
    "sns.set_style(\"ticks\")\n",
    "net_interaction_fig, net_interaction_axs = plt.subplots(1,1)\n",
    "bars = sns.barplot(\n",
    "    data=results_df, x=\"activation_state\", y=\"is_SW\", hue=\"fishing_net\",\n",
    "    capsize=0.05, width=0.8, \n",
    "    order=[\"BEF\", \"BEF+DUR\", \"DUR\", \"DUR+AFT\", \"AFT\"], \n",
    "    hue_order=[\"Absent\", \"Present\"],\n",
    "    n_boot=10000, seed=42, ax=net_interaction_axs,\n",
    ")\n",
    "\n",
    "net_interaction_fig.set_size_inches(6, 5)\n",
    "net_interaction_fig.suptitle(\"Proportion of SWs among whistles depending on\\nfishing net presence and activation of the beacon.\")\n",
    "net_interaction_fig.subplots_adjust(top=0.88)\n",
    "net_interaction_axs.set_xlabel(\"Beacon activation state\")\n",
    "net_interaction_axs.set_ylabel(\"SWs (in % of whistles)\")\n",
    "net_interaction_axs.xaxis.grid(True)\n",
    "net_interaction_axs.yaxis.grid(True)\n",
    "plt.show()\n",
    "sns.reset_orig()"
   ]
  },
  {
   "cell_type": "code",
   "execution_count": null,
   "metadata": {},
   "outputs": [],
   "source": [
    "sns.set_style(\"ticks\")\n",
    "net_interaction_fig, net_interaction_axs = plt.subplots(1,1)\n",
    "bars = sns.barplot(\n",
    "    data=results_df, x=\"behaviour\", y=\"is_SW\", hue=\"fishing_net\",\n",
    "    capsize=0.05, width=0.8, \n",
    "    order=[\"Milling\", \"Socialising\", \"Travelling\", \"Foraging\", \"Attraction\"], \n",
    "    hue_order=[\"Absent\", \"Present\"],\n",
    "    n_boot=10000, seed=42, ax=net_interaction_axs,\n",
    ")\n",
    "\n",
    "net_interaction_fig.set_size_inches(6, 5)\n",
    "net_interaction_fig.suptitle(\"Proportion of SWs among whistles depending on\\nfishing net presence and behavioural state.\")\n",
    "net_interaction_fig.subplots_adjust(top=0.88)\n",
    "net_interaction_axs.set_xlabel(\"Observed behavioural state\")\n",
    "net_interaction_axs.set_ylabel(\"SWs (in % of whistles)\")\n",
    "net_interaction_axs.xaxis.grid(True)\n",
    "net_interaction_axs.yaxis.grid(True)\n",
    "plt.show()\n",
    "sns.reset_orig()"
   ]
  },
  {
   "cell_type": "markdown",
   "metadata": {},
   "source": [
    "## Conlusions - data exploration\n",
    "\n",
    "Can we explain why 2021 has less SWs than the other years ? \n",
    "And why some days have significantly more SWs than others ?\n",
    "\n",
    "We know that behaviour and beacon activation both have an effect on SWs. So let's test explore that path."
   ]
  },
  {
   "cell_type": "code",
   "execution_count": null,
   "metadata": {},
   "outputs": [],
   "source": [
    "print(\"Distribution of behavioural states per year:\")\n",
    "counts = results_df.groupby(['year', 'behaviour']).size().unstack(fill_value=0)\n",
    "print(counts.div(counts.sum(axis=1), axis=0))\n",
    "\n",
    "print(\"\\nDistribution of activation states per year:\")\n",
    "counts = results_df.groupby(['year', 'clean_activation_state']).size().unstack(fill_value=0)\n",
    "print(counts.div(counts.sum(axis=1), axis=0))"
   ]
  },
  {
   "cell_type": "markdown",
   "metadata": {},
   "source": [
    "So in 2021, way more \"BEF\", but from previous \"beacon activation state\" analysis, this cannot explain it , not alone."
   ]
  },
  {
   "cell_type": "code",
   "execution_count": null,
   "metadata": {},
   "outputs": [],
   "source": [
    "variable_to_test = \"behaviour\"\n",
    "local_df = results_df[(\n",
    "    (results_df.date.dt.date.astype(str) == '2022-07-17') | \n",
    "    (results_df.date.dt.date.astype(str) == '2022-07-16') | \n",
    "    (results_df.date.dt.date.astype(str) == '2020-07-17') | \n",
    "    (results_df.date.dt.date.astype(str) == '2020-07-12')\n",
    ")]\n",
    "\n",
    "print(\"Distribution of behavioural states per day:\")\n",
    "counts = local_df.groupby(['date', 'behaviour']).size().unstack(fill_value=0)\n",
    "print(counts.div(counts.sum(axis=1), axis=0))\n",
    "\n",
    "print(\"\\nDistribution of activation states per day:\")\n",
    "counts = local_df.groupby(['date', 'clean_activation_state']).size().unstack(fill_value=0)\n",
    "print(counts.div(counts.sum(axis=1), axis=0))"
   ]
  },
  {
   "cell_type": "markdown",
   "metadata": {},
   "source": [
    "From \"Days\" analysis, we expect 2022-07-17 and 2020-07-12 to have similar distributions. And 2020-07-17, 2022-07-17 similar distributions as well.\n",
    "\n",
    "Well nothing is evident from these distributions."
   ]
  },
  {
   "cell_type": "markdown",
   "metadata": {},
   "source": [
    "### Discussion\n",
    "\n",
    "There are probably more parameters, not estimated for this dataset, that can influence the number of SWs produced. We'll see this in the discussion."
   ]
  }
 ],
 "metadata": {
  "kernelspec": {
   "display_name": "VIRTUBA",
   "language": "python",
   "name": "python3"
  },
  "language_info": {
   "codemirror_mode": {
    "name": "ipython",
    "version": 3
   },
   "file_extension": ".py",
   "mimetype": "text/x-python",
   "name": "python",
   "nbconvert_exporter": "python",
   "pygments_lexer": "ipython3",
   "version": "3.9.19"
  }
 },
 "nbformat": 4,
 "nbformat_minor": 2
}
